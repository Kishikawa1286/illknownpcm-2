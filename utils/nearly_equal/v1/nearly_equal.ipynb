{
 "cells": [
  {
   "cell_type": "code",
   "execution_count": 9,
   "metadata": {},
   "outputs": [],
   "source": [
    "using Weave\n",
    "\n",
    "include_weave(\"nearly_equal.jmd\")"
   ]
  },
  {
   "cell_type": "code",
   "execution_count": 23,
   "metadata": {},
   "outputs": [
    {
     "name": "stdout",
     "output_type": "stream",
     "text": [
      "isApprox(a, b): true\n",
      "isApprox(a, c): false\n",
      "isApprox(b, c): true\n",
      "isApprox(a, c; tolerance=1e-5): true\n"
     ]
    }
   ],
   "source": [
    "a = 1.0000001\n",
    "b = 1.0000003\n",
    "c = 1.0000012\n",
    "\n",
    "println(\"isApprox(a, b): \", isApprox(a, b))\n",
    "println(\"isApprox(a, c): \", isApprox(a, c))\n",
    "println(\"isApprox(b, c): \", isApprox(b, c))\n",
    "println(\"isApprox(a, c; tolerance=1e-5): \", isApprox(a, c; tolerance=1e-5))"
   ]
  },
  {
   "cell_type": "code",
   "execution_count": 25,
   "metadata": {},
   "outputs": [
    {
     "ename": "ErrorException",
     "evalue": "syntax: extra token \"!\" after end of expression",
     "output_type": "error",
     "traceback": [
      "syntax: extra token \"!\" after end of expression\n",
      "\n",
      "Stacktrace:\n",
      " [1] top-level scope\n",
      "   @ /workspaces/illknownpcm-2/utils/nearly_equal/v1/nearly_equal.ipynb:1"
     ]
    }
   ],
   "source": [
    "a !≈ b"
   ]
  },
  {
   "cell_type": "code",
   "execution_count": null,
   "metadata": {},
   "outputs": [],
   "source": []
  }
 ],
 "metadata": {
  "kernelspec": {
   "display_name": "Julia 1.9.3",
   "language": "julia",
   "name": "julia-1.9"
  },
  "language_info": {
   "file_extension": ".jl",
   "mimetype": "application/julia",
   "name": "julia",
   "version": "1.9.3"
  }
 },
 "nbformat": 4,
 "nbformat_minor": 2
}
