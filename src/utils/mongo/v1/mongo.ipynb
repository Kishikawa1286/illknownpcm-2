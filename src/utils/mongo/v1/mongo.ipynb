{
 "cells": [
  {
   "cell_type": "code",
   "execution_count": 1,
   "metadata": {},
   "outputs": [],
   "source": [
    "using IntervalArithmetic\n",
    "using IntervalArithmetic.Symbols\n",
    "using UUIDs\n",
    "\n",
    "include(\"mongo.jl\")\n",
    "using .Mongo"
   ]
  },
  {
   "cell_type": "code",
   "execution_count": 2,
   "metadata": {},
   "outputs": [
    {
     "data": {
      "text/plain": [
       "Collection(Database(Client(URI(\"mongodb://mongo:27017\")), \"mongo_test\"), \"test\")"
      ]
     },
     "metadata": {},
     "output_type": "display_data"
    }
   ],
   "source": [
    "coll = collection(\"mongo_test\", \"test\")"
   ]
  },
  {
   "cell_type": "code",
   "execution_count": 3,
   "metadata": {},
   "outputs": [
    {
     "data": {
      "text/plain": [
       "BSON(\"{ \"_id\" : \"49707fb6-07f9-4925-a9a6-8d8212dbdf1f\", \"rows\" : 2, \"data\" : \"[[[1.0,2.0],[2.0,3.0]],[[5.0,6.0],[6.0,7.0]],[\\\"empty\\\",[4.0,5.0]],[[7.0,8.0],[8.0,9.0]]]\", \"type\" : \"twofoldIntervalMatrix\", \"cols\" : 2 }\")"
      ]
     },
     "metadata": {},
     "output_type": "display_data"
    }
   ],
   "source": [
    "id = string(uuid4())\n",
    "\n",
    "bson = twofoldIntervalBson(\n",
    "    [\n",
    "        (1..2, 2..3) (emptyinterval(), 4..5)\n",
    "        (5..6, 6..7) (7..8, 8..9)\n",
    "    ];\n",
    "    id = id\n",
    ")"
   ]
  },
  {
   "cell_type": "code",
   "execution_count": 4,
   "metadata": {},
   "outputs": [
    {
     "data": {
      "text/plain": [
       "Mongoc.InsertOneResult{Nothing}(BSON(\"{ \"insertedCount\" : 1 }\"), nothing)"
      ]
     },
     "metadata": {},
     "output_type": "display_data"
    }
   ],
   "source": [
    "create(coll, bson)"
   ]
  },
  {
   "cell_type": "code",
   "execution_count": 5,
   "metadata": {},
   "outputs": [
    {
     "data": {
      "text/plain": [
       "2×2 Matrix{Tuple{Interval{Float64}, Interval{Float64}}}:\n",
       " ([1.0, 2.0]_com, [2.0, 3.0]_com)  (∅_trv, [4.0, 5.0]_com)\n",
       " ([5.0, 6.0]_com, [6.0, 7.0]_com)  ([7.0, 8.0]_com, [8.0, 9.0]_com)"
      ]
     },
     "metadata": {},
     "output_type": "display_data"
    }
   ],
   "source": [
    "parseTwofoldIntervalBson(read(coll, id))"
   ]
  },
  {
   "cell_type": "code",
   "execution_count": 6,
   "metadata": {},
   "outputs": [
    {
     "data": {
      "text/plain": [
       "BSON(\"{ \"deletedCount\" : 1 }\")"
      ]
     },
     "metadata": {},
     "output_type": "display_data"
    }
   ],
   "source": [
    "delete(coll, id)"
   ]
  },
  {
   "cell_type": "code",
   "execution_count": 7,
   "metadata": {},
   "outputs": [],
   "source": []
  }
 ],
 "metadata": {
  "kernelspec": {
   "display_name": "Julia 1.9.3",
   "language": "julia",
   "name": "julia-1.9"
  },
  "language_info": {
   "file_extension": ".jl",
   "mimetype": "application/julia",
   "name": "julia",
   "version": "1.9.3"
  }
 },
 "nbformat": 4,
 "nbformat_minor": 2
}
