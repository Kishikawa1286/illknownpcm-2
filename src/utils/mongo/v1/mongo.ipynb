{
 "cells": [
  {
   "cell_type": "code",
   "execution_count": 1,
   "metadata": {},
   "outputs": [],
   "source": [
    "using IntervalArithmetic\n",
    "using IntervalArithmetic.Symbols\n",
    "\n",
    "include(\"mongo.jl\")\n",
    "using .Mongo"
   ]
  },
  {
   "cell_type": "code",
   "execution_count": 2,
   "metadata": {},
   "outputs": [
    {
     "data": {
      "text/plain": [
       "Database(Client(URI(\"mongodb://localhost:27017\")), \"mongo_test\")"
      ]
     },
     "metadata": {},
     "output_type": "display_data"
    }
   ],
   "source": [
    "db = database(\"mongo_test\")"
   ]
  },
  {
   "cell_type": "code",
   "execution_count": 3,
   "metadata": {},
   "outputs": [
    {
     "data": {
      "text/plain": [
       "Collection(Database(Client(URI(\"mongodb://localhost:27017\")), \"mongo_test\"), \"test\")"
      ]
     },
     "metadata": {},
     "output_type": "display_data"
    }
   ],
   "source": [
    "coll = collection(db, \"test\")"
   ]
  },
  {
   "cell_type": "code",
   "execution_count": 4,
   "metadata": {},
   "outputs": [
    {
     "data": {
      "text/plain": [
       "BSON(\"{ \"hey\" : \"you\" }\")"
      ]
     },
     "metadata": {},
     "output_type": "display_data"
    }
   ],
   "source": [
    "bson(\"\"\"\n",
    "    { \"hey\" : \"you\" }\n",
    "\"\"\")\n"
   ]
  },
  {
   "cell_type": "code",
   "execution_count": 5,
   "metadata": {},
   "outputs": [
    {
     "data": {
      "text/plain": [
       "BSON(\"{ \"hey\" : \"you\" }\")"
      ]
     },
     "metadata": {},
     "output_type": "display_data"
    }
   ],
   "source": [
    "bson(Dict(\n",
    "    \"hey\" => \"you\",\n",
    "))"
   ]
  },
  {
   "cell_type": "code",
   "execution_count": 6,
   "metadata": {},
   "outputs": [
    {
     "data": {
      "text/plain": [
       "BSON(\"{ \"length\" : 5, \"_id\" : \"crispVector\", \"data\" : \"[1.0,2.0,2.0,3.0,4.0]\", \"type\" : \"crispVector\" }\")"
      ]
     },
     "metadata": {},
     "output_type": "display_data"
    }
   ],
   "source": [
    "crispVector = crispBson(\n",
    "    [1, 2, 2, 3, 4];\n",
    "    id = \"crispVector\"\n",
    ")"
   ]
  },
  {
   "cell_type": "code",
   "execution_count": 7,
   "metadata": {},
   "outputs": [
    {
     "data": {
      "text/plain": [
       "5-element Vector{Float64}:\n",
       " 1.0\n",
       " 2.0\n",
       " 2.0\n",
       " 3.0\n",
       " 4.0"
      ]
     },
     "metadata": {},
     "output_type": "display_data"
    }
   ],
   "source": [
    "parseCrispBson(crispVector)"
   ]
  },
  {
   "cell_type": "code",
   "execution_count": 8,
   "metadata": {},
   "outputs": [
    {
     "data": {
      "text/plain": [
       "BSON(\"{ \"_id\" : \"crispMatrix\", \"rows\" : 2, \"data\" : \"[1.0,4.0,2.0,5.0,3.0,6.0]\", \"type\" : \"crispMatrix\", \"cols\" : 3 }\")"
      ]
     },
     "metadata": {},
     "output_type": "display_data"
    }
   ],
   "source": [
    "crispMatrix = crispBson(\n",
    "    [\n",
    "        1 2 3\n",
    "        4 5 6\n",
    "    ];\n",
    "    id = \"crispMatrix\"\n",
    ")"
   ]
  },
  {
   "cell_type": "code",
   "execution_count": 9,
   "metadata": {},
   "outputs": [
    {
     "data": {
      "text/plain": [
       "2×3 Matrix{Float64}:\n",
       " 1.0  2.0  3.0\n",
       " 4.0  5.0  6.0"
      ]
     },
     "metadata": {},
     "output_type": "display_data"
    }
   ],
   "source": [
    "parseCrispBson(crispMatrix)"
   ]
  },
  {
   "cell_type": "code",
   "execution_count": 10,
   "metadata": {},
   "outputs": [
    {
     "data": {
      "text/plain": [
       "BSON(\"{ \"length\" : 3, \"_id\" : \"intervalVector\", \"data\" : \"[[1.0,2.0],[2.0,3.0],[3.0,4.0]]\", \"type\" : \"intervalVector\" }\")"
      ]
     },
     "metadata": {},
     "output_type": "display_data"
    }
   ],
   "source": [
    "intervalVector = intervalBson(\n",
    "    [1..2, 2..3, 3..4];\n",
    "    id = \"intervalVector\"\n",
    ")"
   ]
  },
  {
   "cell_type": "code",
   "execution_count": 11,
   "metadata": {},
   "outputs": [
    {
     "data": {
      "text/plain": [
       "3-element Vector{Interval{Float64}}:\n",
       " [1.0, 2.0]_com\n",
       " [2.0, 3.0]_com\n",
       " [3.0, 4.0]_com"
      ]
     },
     "metadata": {},
     "output_type": "display_data"
    }
   ],
   "source": [
    "parseIntervalBson(intervalVector)"
   ]
  },
  {
   "cell_type": "code",
   "execution_count": 12,
   "metadata": {},
   "outputs": [
    {
     "data": {
      "text/plain": [
       "BSON(\"{ \"_id\" : \"intervalMatrix\", \"rows\" : 2, \"data\" : \"[[1.0,2.0],[4.0,5.0],[2.0,3.0],[5.0,6.0],[3.0,4.0],\\\"empty\\\"]\", \"type\" : \"intervalMatrix\", \"cols\" : 3 }\")"
      ]
     },
     "metadata": {},
     "output_type": "display_data"
    }
   ],
   "source": [
    "intervalMatrix = intervalBson(\n",
    "    [\n",
    "        1..2 2..3 3..4\n",
    "        4..5 5..6 emptyinterval()\n",
    "    ];\n",
    "    id = \"intervalMatrix\"\n",
    ")"
   ]
  },
  {
   "cell_type": "code",
   "execution_count": 13,
   "metadata": {},
   "outputs": [
    {
     "data": {
      "text/plain": [
       "2×3 Matrix{Interval{Float64}}:\n",
       " [1.0, 2.0]_com  [2.0, 3.0]_com     [3.0, 4.0]_com\n",
       " [4.0, 5.0]_com  [5.0, 6.0]_com  ∅_trv"
      ]
     },
     "metadata": {},
     "output_type": "display_data"
    }
   ],
   "source": [
    "parseIntervalBson(intervalMatrix)"
   ]
  },
  {
   "cell_type": "code",
   "execution_count": 14,
   "metadata": {},
   "outputs": [
    {
     "data": {
      "text/plain": [
       "BSON(\"{ \"length\" : 2, \"_id\" : \"twofoldIntervalVector\", \"data\" : \"[[[1.0,2.0],[2.0,3.0]],[[3.0,4.0],[4.0,5.0]]]\", \"type\" : \"twofoldIntervalVector\" }\")"
      ]
     },
     "metadata": {},
     "output_type": "display_data"
    }
   ],
   "source": [
    "twofoldIntervalVector = twofoldIntervalBson(\n",
    "    [\n",
    "        (1..2, 2..3)\n",
    "        (3..4, 4..5)\n",
    "    ];\n",
    "    id = \"twofoldIntervalVector\"\n",
    ")"
   ]
  },
  {
   "cell_type": "code",
   "execution_count": 15,
   "metadata": {},
   "outputs": [
    {
     "data": {
      "text/plain": [
       "2-element Vector{Tuple{Interval{Float64}, Interval{Float64}}}:\n",
       " (Interval{Float64}(1.0, 2.0, com), Interval{Float64}(2.0, 3.0, com))\n",
       " (Interval{Float64}(3.0, 4.0, com), Interval{Float64}(4.0, 5.0, com))"
      ]
     },
     "metadata": {},
     "output_type": "display_data"
    }
   ],
   "source": [
    "parseTwofoldIntervalBson(twofoldIntervalVector)"
   ]
  },
  {
   "cell_type": "code",
   "execution_count": 16,
   "metadata": {},
   "outputs": [
    {
     "data": {
      "text/plain": [
       "BSON(\"{ \"_id\" : \"twofoldIntervalMatrix\", \"rows\" : 2, \"data\" : \"[[[1.0,2.0],[2.0,3.0]],[[5.0,6.0],[6.0,7.0]],[\\\"empty\\\",[4.0,5.0]],[[7.0,8.0],[8.0,9.0]]]\", \"type\" : \"twofoldIntervalMatrix\", \"cols\" : 2 }\")"
      ]
     },
     "metadata": {},
     "output_type": "display_data"
    }
   ],
   "source": [
    "twofoldIntervalMatrix = twofoldIntervalBson(\n",
    "    [\n",
    "        (1..2, 2..3) (emptyinterval(), 4..5)\n",
    "        (5..6, 6..7) (7..8, 8..9)\n",
    "    ];\n",
    "    id = \"twofoldIntervalMatrix\"\n",
    ")"
   ]
  },
  {
   "cell_type": "code",
   "execution_count": 17,
   "metadata": {},
   "outputs": [
    {
     "data": {
      "text/plain": [
       "2×2 Matrix{Tuple{Interval{Float64}, Interval{Float64}}}:\n",
       " ([1.0, 2.0]_com, [2.0, 3.0]_com)  (∅_trv, [4.0, 5.0]_com)\n",
       " ([5.0, 6.0]_com, [6.0, 7.0]_com)  ([7.0, 8.0]_com, [8.0, 9.0]_com)"
      ]
     },
     "metadata": {},
     "output_type": "display_data"
    }
   ],
   "source": [
    "parseTwofoldIntervalBson(twofoldIntervalMatrix)"
   ]
  }
 ],
 "metadata": {
  "kernelspec": {
   "display_name": "Julia 1.9.3",
   "language": "julia",
   "name": "julia-1.9"
  },
  "language_info": {
   "file_extension": ".jl",
   "mimetype": "application/julia",
   "name": "julia",
   "version": "1.9.3"
  }
 },
 "nbformat": 4,
 "nbformat_minor": 2
}
