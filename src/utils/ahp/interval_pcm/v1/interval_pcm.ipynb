{
 "cells": [
  {
   "cell_type": "code",
   "execution_count": 1,
   "metadata": {},
   "outputs": [],
   "source": [
    "using IntervalArithmetic.Symbols\n",
    "\n",
    "include(\"./interval_pcm.jl\")\n",
    "using .IntervalPCM"
   ]
  },
  {
   "cell_type": "code",
   "execution_count": 2,
   "metadata": {},
   "outputs": [
    {
     "data": {
      "text/plain": [
       "3×3 Matrix{IntervalArithmetic.Interval{Float64}}:\n",
       " [1.0, 1.0]_com        [2.0, 2.0]_com  [3.0, 4.0]_com\n",
       " [0.5, 0.5]_com        [1.0, 1.0]_com  [2.0, 2.0]_com\n",
       " [0.25, 0.333334]_com  [0.5, 0.5]_com  [1.0, 1.0]_com"
      ]
     },
     "metadata": {},
     "output_type": "display_data"
    },
    {
     "name": "stdout",
     "output_type": "stream",
     "text": [
      "isIntervalPCM(A): true\n",
      "A′ ∈ A: false\n",
      "A ∋ A′: false\n"
     ]
    }
   ],
   "source": [
    "A = [\n",
    "    1..1 2..2 3..4\n",
    "    (1//2)..(1//2) 1..1 2..2\n",
    "    (1//4)..(1//3) (1//2)..(1//2) 1..1\n",
    "]\n",
    "A′ = [\n",
    "    1 2 3\n",
    "    1//2 1 2\n",
    "    1//3 1//2 1\n",
    "]\n",
    "\n",
    "display(A)\n",
    "println(\"isIntervalPCM(A): \", isIntervalPCM(A))\n",
    "println(\"A′ ∈ A: \", A′ ∈ A)\n",
    "println(\"A ∋ A′: \", A ∋ A′)"
   ]
  },
  {
   "cell_type": "code",
   "execution_count": 3,
   "metadata": {},
   "outputs": [
    {
     "data": {
      "text/plain": [
       "3×3 Matrix{IntervalArithmetic.Interval{Float64}}:\n",
       " [1.0, 1.0]_com        [2.0, 2.0]_com  ∅_ill\n",
       " [0.5, 0.5]_com        [1.0, 1.0]_com     [2.0, 2.0]_com\n",
       " [0.25, 0.333334]_com  [0.5, 0.5]_com     [1.0, 1.0]_com"
      ]
     },
     "metadata": {},
     "output_type": "display_data"
    },
    {
     "name": "stdout",
     "output_type": "stream",
     "text": [
      "isIntervalPCM(B): false\n"
     ]
    },
    {
     "name": "stderr",
     "output_type": "stream",
     "text": [
      "┌ Warning: invalid interval, NaI is returned\n",
      "└ @ IntervalArithmetic /opt/julia/packages/IntervalArithmetic/Of3fY/src/intervals/construction.jl:444\n",
      "┌ Warning: invalid interval, NaI is returned\n",
      "└ @ IntervalArithmetic /opt/julia/packages/IntervalArithmetic/Of3fY/src/intervals/construction.jl:463\n"
     ]
    }
   ],
   "source": [
    "B = [\n",
    "    1..1 2..2 4..3\n",
    "    (1//2)..(1//2) 1..1 2..2\n",
    "    (1//4)..(1//3) (1//2)..(1//2) 1..1\n",
    "]\n",
    "\n",
    "display(B)\n",
    "println(\"isIntervalPCM(B): \", isIntervalPCM(B))"
   ]
  },
  {
   "cell_type": "code",
   "execution_count": 7,
   "metadata": {},
   "outputs": [
    {
     "data": {
      "text/plain": [
       "3×3 Matrix{IntervalArithmetic.Interval{Float64}}:\n",
       "    [1.0, 1.0]_com  [2.0, 2.0]_com  ∅_trv\n",
       "    [0.5, 0.5]_com  [1.0, 1.0]_com     [2.0, 2.0]_com\n",
       " ∅_trv              [0.5, 0.5]_com     [1.0, 1.0]_com"
      ]
     },
     "metadata": {},
     "output_type": "display_data"
    },
    {
     "name": "stdout",
     "output_type": "stream",
     "text": [
      "isIntervalPCM(C): false\n",
      "isIntervalPCM(C; allow_uncommon=true): true\n",
      "Sim(A, C): 0.6666666666666666\n",
      "Inc(C, A): 1.0\n",
      "Inc(A, C): 0.6666666666666666\n"
     ]
    }
   ],
   "source": [
    "C = [\n",
    "    1..1 2..2 ∅\n",
    "    (1//2)..(1//2) 1..1 2..2\n",
    "    ∅ (1//2)..(1//2) 1..1\n",
    "]\n",
    "\n",
    "display(C)\n",
    "println(\"isIntervalPCM(C): \", isIntervalPCM(C))\n",
    "println(\"isIntervalPCM(C; allow_uncommon=true): \", isIntervalPCM(C; allow_uncommon=true))\n",
    "println(\"Sim(A, C): \", Sim(A, C))\n",
    "println(\"Inc(C, A): \", Inc(C, A))\n",
    "println(\"Inc(A, C): \", Inc(A, C))"
   ]
  },
  {
   "cell_type": "code",
   "execution_count": 5,
   "metadata": {},
   "outputs": [
    {
     "data": {
      "text/plain": [
       "3×3 Matrix{IntervalArithmetic.Interval{Float64}}:\n",
       " [1.0, 1.0]_com      [0.25, 0.666667]_com  [0.166666, 0.400001]_com\n",
       " [1.49999, 4.0]_com  [1.0, 1.0]_com        [0.5, 0.800001]_com\n",
       " [2.49999, 6.0]_com  [1.24999, 2.0]_com    [1.0, 1.0]_com"
      ]
     },
     "metadata": {},
     "output_type": "display_data"
    }
   ],
   "source": [
    "W = [\n",
    "    1..2\n",
    "    3..4\n",
    "    5..6\n",
    "]\n",
    "\n",
    "display(intervalPCM(W))"
   ]
  },
  {
   "cell_type": "code",
   "execution_count": 6,
   "metadata": {},
   "outputs": [],
   "source": []
  }
 ],
 "metadata": {
  "kernelspec": {
   "display_name": "Julia 1.9.3",
   "language": "julia",
   "name": "julia-1.9"
  },
  "language_info": {
   "file_extension": ".jl",
   "mimetype": "application/julia",
   "name": "julia",
   "version": "1.9.3"
  }
 },
 "nbformat": 4,
 "nbformat_minor": 2
}
