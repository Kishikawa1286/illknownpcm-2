{
 "cells": [
  {
   "cell_type": "code",
   "execution_count": 1,
   "metadata": {},
   "outputs": [],
   "source": [
    "using IntervalArithmetic\n",
    "using IntervalArithmetic.Symbols\n",
    "\n",
    "include(\"./interval.jl\")\n",
    "using .ExtendedIntervalArithmetic"
   ]
  },
  {
   "cell_type": "code",
   "execution_count": 3,
   "metadata": {},
   "outputs": [
    {
     "name": "stdout",
     "output_type": "stream",
     "text": [
      "Sim(A, B): 0.5\n",
      "Sim(B, A): 0.5\n",
      "Inc(A, B): 0.75\n",
      "Inc(B, A): 0.6\n"
     ]
    }
   ],
   "source": [
    "A = 1..5\n",
    "B = 2..7\n",
    "\n",
    "println(\"Sim(A, B): \", Sim(A, B))\n",
    "println(\"Sim(B, A): \", Sim(B, A))\n",
    "println(\"Inc(A, B): \", Inc(A, B))\n",
    "println(\"Inc(B, A): \", Inc(B, A))"
   ]
  },
  {
   "cell_type": "code",
   "execution_count": null,
   "metadata": {},
   "outputs": [],
   "source": []
  }
 ],
 "metadata": {
  "kernelspec": {
   "display_name": "Julia 1.9.3",
   "language": "julia",
   "name": "julia-1.9"
  },
  "language_info": {
   "file_extension": ".jl",
   "mimetype": "application/julia",
   "name": "julia",
   "version": "1.9.3"
  }
 },
 "nbformat": 4,
 "nbformat_minor": 2
}
