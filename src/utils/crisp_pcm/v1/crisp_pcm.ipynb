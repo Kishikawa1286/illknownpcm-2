{
 "cells": [
  {
   "cell_type": "code",
   "execution_count": 1,
   "metadata": {},
   "outputs": [],
   "source": [
    "include(\"./crisp_pcm.jl\")\n",
    "using .CrispPCM"
   ]
  },
  {
   "cell_type": "code",
   "execution_count": 2,
   "metadata": {},
   "outputs": [
    {
     "name": "stdout",
     "output_type": "stream",
     "text": [
      "isCrispPCM(A): true\n",
      "CI(A): 0.00460135635714054\n",
      "CR(A): 0.007933373029552656\n"
     ]
    }
   ],
   "source": [
    "A = [\n",
    "    1 2 3\n",
    "    1//2 1 2\n",
    "    1//3 1//2 1\n",
    "]\n",
    "\n",
    "println(\"isCrispPCM(A): \", isCrispPCM(A))\n",
    "println(\"CI(A): \", CI(A))\n",
    "println(\"CR(A): \", CR(A))"
   ]
  },
  {
   "cell_type": "code",
   "execution_count": 3,
   "metadata": {},
   "outputs": [
    {
     "name": "stdout",
     "output_type": "stream",
     "text": [
      "isCrispPCM(B): false\n"
     ]
    }
   ],
   "source": [
    "B = [\n",
    "    1 2 4\n",
    "    1//2 1 2\n",
    "    1//3 1//2 1\n",
    "]\n",
    "\n",
    "println(\"isCrispPCM(B): \", isCrispPCM(B))"
   ]
  },
  {
   "cell_type": "code",
   "execution_count": 4,
   "metadata": {},
   "outputs": [],
   "source": []
  }
 ],
 "metadata": {
  "kernelspec": {
   "display_name": "Julia 1.9.3",
   "language": "julia",
   "name": "julia-1.9"
  },
  "language_info": {
   "file_extension": ".jl",
   "mimetype": "application/julia",
   "name": "julia",
   "version": "1.9.3"
  }
 },
 "nbformat": 4,
 "nbformat_minor": 2
}
