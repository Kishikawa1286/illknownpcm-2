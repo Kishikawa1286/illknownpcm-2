{
 "cells": [
  {
   "cell_type": "code",
   "execution_count": 1,
   "metadata": {},
   "outputs": [],
   "source": [
    "using IntervalArithmetic.Symbols\n",
    "\n",
    "include(\"twofold_interval.jl\")\n",
    "using .TwofoldIntervalArithmetic"
   ]
  },
  {
   "cell_type": "code",
   "execution_count": 6,
   "metadata": {},
   "outputs": [
    {
     "name": "stdout",
     "output_type": "stream",
     "text": [
      "isTwofoldInterval(A): true\n",
      "inner(A): Interval{Float64}(1.0, 2.0, com)\n",
      "inner(A) ∈ A: true\n",
      "outer(A): Interval{Float64}(1.0, 4.0, com)\n",
      "outer(A) ∈ A: true\n",
      "1..1 ∈ A: false\n",
      "(1..2, 1..3) ⊆ A: true\n"
     ]
    }
   ],
   "source": [
    "A = (1..2, 1..4)\n",
    "\n",
    "println(\"isTwofoldInterval(A): \", isTwofoldInterval(A))\n",
    "println(\"inner(A): \", inner(A))\n",
    "println(\"inner(A) ∈ A: \", inner(A) ∈ A)\n",
    "println(\"outer(A): \", outer(A))\n",
    "println(\"outer(A) ∈ A: \", outer(A) ∈ A)\n",
    "println(\"1..1 ∈ A: \", 1..1 ∈ A)\n",
    "println(\"(1..2, 1..3) ⊆ A: \", (1..2, 1..3) ⊆ A)"
   ]
  },
  {
   "cell_type": "code",
   "execution_count": 3,
   "metadata": {},
   "outputs": [
    {
     "name": "stdout",
     "output_type": "stream",
     "text": [
      "isTwofoldInterval(B): true\n",
      "isTwofoldInterval(B; allow_uncommon_inner_interval=false): false\n",
      "∅ ∈ B: true\n"
     ]
    }
   ],
   "source": [
    "B = (∅, 1..4)\n",
    "\n",
    "println(\"isTwofoldInterval(B): \", isTwofoldInterval(B))\n",
    "println(\"isTwofoldInterval(B; allow_uncommon_inner_interval=false): \", isTwofoldInterval(B; allow_uncommon_inner_interval=false))\n",
    "println(\"∅ ∈ B: \", ∅ ∈ B)"
   ]
  },
  {
   "cell_type": "code",
   "execution_count": 12,
   "metadata": {},
   "outputs": [
    {
     "name": "stdout",
     "output_type": "stream",
     "text": [
      "isTwofoldInterval(C): false\n"
     ]
    }
   ],
   "source": [
    "C = (1..2, 3..4)\n",
    "\n",
    "println(\"isTwofoldInterval(C): \", isTwofoldInterval(C))"
   ]
  },
  {
   "cell_type": "code",
   "execution_count": 5,
   "metadata": {},
   "outputs": [],
   "source": []
  }
 ],
 "metadata": {
  "kernelspec": {
   "display_name": "Julia 1.9.3",
   "language": "julia",
   "name": "julia-1.9"
  },
  "language_info": {
   "file_extension": ".jl",
   "mimetype": "application/julia",
   "name": "julia",
   "version": "1.9.3"
  }
 },
 "nbformat": 4,
 "nbformat_minor": 2
}
