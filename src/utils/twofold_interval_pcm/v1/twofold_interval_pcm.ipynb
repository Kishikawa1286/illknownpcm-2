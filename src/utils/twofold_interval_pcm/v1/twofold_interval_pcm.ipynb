{
 "cells": [
  {
   "cell_type": "code",
   "execution_count": 1,
   "metadata": {},
   "outputs": [],
   "source": [
    "using IntervalArithmetic\n",
    "using IntervalArithmetic.Symbols\n",
    "\n",
    "include(\"twofold_interval_pcm.jl\")\n",
    "using .TwofoldIntervalPCM"
   ]
  },
  {
   "cell_type": "code",
   "execution_count": 2,
   "metadata": {},
   "outputs": [
    {
     "name": "stdout",
     "output_type": "stream",
     "text": [
      "isTwofoldIntervalPCM(𝒜): true\n",
      "𝒜⁻ ∈ 𝒜: true\n",
      "𝒜⁺ ∈ 𝒜: true\n",
      "𝒜 ∋ 𝒜⁻: true\n",
      "𝒜 ∋ 𝒜⁺: true\n"
     ]
    }
   ],
   "source": [
    "𝒜⁻ = [\n",
    "    1..1  2..3  4..5  6..7\n",
    "    1/3..1/2  1..1  8..9  10..11\n",
    "    1/5..1/4  1/9..1/8  1..1  12..13\n",
    "    1/7..1/6  1/11..1/10  1/13..1/12  1..1\n",
    "]\n",
    "𝒜⁺ = [\n",
    "    1..1  1..4  3..6  5..8\n",
    "    1/4..1/1  1..1  7..10  9..12\n",
    "    1/6..1/3  1/10..1/7  1..1  11..14\n",
    "    1/8..1/5  1/12..1/9  1/14..1/11  1..1\n",
    "]\n",
    "\n",
    "𝒜 = twofoldIntervalPCM(𝒜⁻, 𝒜⁺)\n",
    "\n",
    "println(\"isTwofoldIntervalPCM(𝒜): \", isTwofoldIntervalPCM(𝒜))\n",
    "println(\"𝒜⁻ ∈ 𝒜: \", 𝒜⁻ ∈ 𝒜)\n",
    "println(\"𝒜⁺ ∈ 𝒜: \", 𝒜⁺ ∈ 𝒜)\n",
    "println(\"𝒜 ∋ 𝒜⁻: \", 𝒜 ∋ 𝒜⁻)\n",
    "println(\"𝒜 ∋ 𝒜⁺: \", 𝒜 ∋ 𝒜⁺)"
   ]
  },
  {
   "cell_type": "code",
   "execution_count": 3,
   "metadata": {},
   "outputs": [
    {
     "name": "stdout",
     "output_type": "stream",
     "text": [
      "isTwofoldIntervalPCM(𝓑): true\n"
     ]
    }
   ],
   "source": [
    "𝒲 = [\n",
    "    (interval(1.0, 1.0), interval(1/2, 4.0)),\n",
    "    (interval(1/2, 1.0), interval(1/3, 1.0)),\n",
    "    (interval(3/2, 3.0), interval(1/2, 10.0)),\n",
    "    (interval(5/2, 4), interval(4/2, 12))\n",
    "]\n",
    "𝓑 = twofoldIntervalPCM(𝒲)\n",
    "\n",
    "println(\"isTwofoldIntervalPCM(𝓑): \", isTwofoldIntervalPCM(𝓑))"
   ]
  },
  {
   "cell_type": "code",
   "execution_count": null,
   "metadata": {},
   "outputs": [],
   "source": []
  }
 ],
 "metadata": {
  "kernelspec": {
   "display_name": "Julia 1.9.3",
   "language": "julia",
   "name": "julia-1.9"
  },
  "language_info": {
   "file_extension": ".jl",
   "mimetype": "application/julia",
   "name": "julia",
   "version": "1.9.3"
  }
 },
 "nbformat": 4,
 "nbformat_minor": 2
}
