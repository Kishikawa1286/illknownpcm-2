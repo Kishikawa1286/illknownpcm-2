{
 "cells": [
  {
   "cell_type": "code",
   "execution_count": 1,
   "metadata": {},
   "outputs": [],
   "source": [
    "using IntervalArithmetic.Symbols\n",
    "\n",
    "include(\"twofold_interval_pcm.jl\")\n",
    "using .TwofoldIntervalPCM"
   ]
  },
  {
   "cell_type": "code",
   "execution_count": 2,
   "metadata": {},
   "outputs": [
    {
     "name": "stdout",
     "output_type": "stream",
     "text": [
      "isTwofoldIntervalPCM(𝒜): true\n",
      "𝒜⁻ ∈ 𝒜: true\n",
      "𝒜⁺ ∈ 𝒜: true\n",
      "𝒜 ∋ 𝒜⁻: true\n",
      "𝒜 ∋ 𝒜⁺: true\n"
     ]
    }
   ],
   "source": [
    "𝒜⁻ = [\n",
    "    1..1  2..3  4..5  6..7\n",
    "    1/3..1/2  1..1  8..9  10..11\n",
    "    1/5..1/4  1/9..1/8  1..1  12..13\n",
    "    1/7..1/6  1/11..1/10  1/13..1/12  1..1\n",
    "]\n",
    "𝒜⁺ = [\n",
    "    1..1  1..4  3..6  5..8\n",
    "    1/4..1/1  1..1  7..10  9..12\n",
    "    1/6..1/3  1/10..1/7  1..1  11..14\n",
    "    1/8..1/5  1/12..1/9  1/14..1/11  1..1\n",
    "]\n",
    "\n",
    "𝒜 = createTwofoldIntervalPCM(𝒜⁻, 𝒜⁺)\n",
    "\n",
    "println(\"isTwofoldIntervalPCM(𝒜): \", isTwofoldIntervalPCM(𝒜))\n",
    "println(\"𝒜⁻ ∈ 𝒜: \", 𝒜⁻ ∈ 𝒜)\n",
    "println(\"𝒜⁺ ∈ 𝒜: \", 𝒜⁺ ∈ 𝒜)\n",
    "println(\"𝒜 ∋ 𝒜⁻: \", 𝒜 ∋ 𝒜⁻)\n",
    "println(\"𝒜 ∋ 𝒜⁺: \", 𝒜 ∋ 𝒜⁺)"
   ]
  },
  {
   "cell_type": "code",
   "execution_count": 3,
   "metadata": {},
   "outputs": [],
   "source": []
  }
 ],
 "metadata": {
  "kernelspec": {
   "display_name": "Julia 1.9.3",
   "language": "julia",
   "name": "julia-1.9"
  },
  "language_info": {
   "file_extension": ".jl",
   "mimetype": "application/julia",
   "name": "julia",
   "version": "1.9.3"
  }
 },
 "nbformat": 4,
 "nbformat_minor": 2
}
