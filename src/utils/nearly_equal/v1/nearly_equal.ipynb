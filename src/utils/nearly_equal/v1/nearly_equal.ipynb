{
 "cells": [
  {
   "cell_type": "code",
   "execution_count": 1,
   "metadata": {},
   "outputs": [],
   "source": [
    "include(\"nearly_equal.jl\")\n",
    "using .NearlyEqual"
   ]
  },
  {
   "cell_type": "code",
   "execution_count": 5,
   "metadata": {},
   "outputs": [
    {
     "name": "stdout",
     "output_type": "stream",
     "text": [
      "isNearlyEqual(a, b): true\n",
      "isNearlyEqual(a, c): false\n",
      "isNearlyEqual(b, c): true\n",
      "isNearlyEqual(a, c; tolerance=1e-5): true\n"
     ]
    }
   ],
   "source": [
    "a = 1.0000001\n",
    "b = 1.0000003\n",
    "c = 1.0000012\n",
    "\n",
    "println(\"isNearlyEqual(a, b): \", isNearlyEqual(a, b))\n",
    "println(\"isNearlyEqual(a, c): \", isNearlyEqual(a, c))\n",
    "println(\"isNearlyEqual(b, c): \", isNearlyEqual(b, c))\n",
    "println(\"isNearlyEqual(a, c; tolerance=1e-5): \", isNearlyEqual(a, c; tolerance=1e-5))"
   ]
  },
  {
   "cell_type": "code",
   "execution_count": 3,
   "metadata": {},
   "outputs": [],
   "source": []
  }
 ],
 "metadata": {
  "kernelspec": {
   "display_name": "Julia 1.9.3",
   "language": "julia",
   "name": "julia-1.9"
  },
  "language_info": {
   "file_extension": ".jl",
   "mimetype": "application/julia",
   "name": "julia",
   "version": "1.9.3"
  }
 },
 "nbformat": 4,
 "nbformat_minor": 2
}
