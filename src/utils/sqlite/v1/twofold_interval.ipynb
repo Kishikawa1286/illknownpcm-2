{
 "cells": [
  {
   "cell_type": "code",
   "execution_count": 1,
   "metadata": {},
   "outputs": [],
   "source": [
    "using SQLite\n",
    "using Tables\n",
    "using UUIDs\n",
    "using IntervalArithmetic\n",
    "using IntervalArithmetic.Symbols\n",
    "\n",
    "include(\"sqlite.jl\")\n",
    "using .SQLiteHelper\n",
    "\n",
    "include(\"twofold_interval.jl\")\n",
    "using .TwofoldIntervalTable"
   ]
  },
  {
   "cell_type": "code",
   "execution_count": 2,
   "metadata": {},
   "outputs": [
    {
     "data": {
      "text/plain": [
       "SQLite.DB(\"test.sqlite\")"
      ]
     },
     "metadata": {},
     "output_type": "display_data"
    }
   ],
   "source": [
    "db = database(\"test.sqlite\")"
   ]
  },
  {
   "cell_type": "code",
   "execution_count": 3,
   "metadata": {},
   "outputs": [
    {
     "data": {
      "text/plain": [
       "101"
      ]
     },
     "metadata": {},
     "output_type": "display_data"
    }
   ],
   "source": [
    "createMatrixTable(db, \"two_fold_interval\")"
   ]
  },
  {
   "cell_type": "code",
   "execution_count": 4,
   "metadata": {},
   "outputs": [
    {
     "data": {
      "text/plain": [
       "\"15ee9299-9571-4775-9913-d265f147e7d1\""
      ]
     },
     "metadata": {},
     "output_type": "display_data"
    }
   ],
   "source": [
    "id = string(uuid4())"
   ]
  },
  {
   "cell_type": "code",
   "execution_count": 5,
   "metadata": {},
   "outputs": [
    {
     "data": {
      "text/plain": [
       "SQLite.Query{false}(SQLite.Stmt(SQLite.DB(\"test.sqlite\"), Base.RefValue{Ptr{SQLite.C.sqlite3_stmt}}(Ptr{SQLite.C.sqlite3_stmt} @0x0000000002ab1348), Dict{Int64, Any}(5 => \"[[[1.0,2.0],[1.0,4.0]],[[9.0,10.0],[7.0,12.0]],[\\\"empty\\\",[4.0,8.0]],[[13.0,14.0],[10.0,16.0]]]\", 4 => 2, 2 => \"twofold_interval_matrix\", 3 => 2, 1 => \"15ee9299-9571-4775-9913-d265f147e7d1\")), Base.RefValue{Int32}(101), Symbol[], Type[], Dict{Symbol, Int64}(), Base.RefValue{Int64}(0))"
      ]
     },
     "metadata": {},
     "output_type": "display_data"
    }
   ],
   "source": [
    "insertTwofoldIntervalData(db, \"two_fold_interval\", id, [\n",
    "    (1..2, 1..4) (emptyinterval(), 4..8)\n",
    "    (9..10, 7..12) (13..14, 10..16)\n",
    "])"
   ]
  },
  {
   "cell_type": "code",
   "execution_count": 6,
   "metadata": {},
   "outputs": [
    {
     "data": {
      "text/plain": [
       "2×2 Matrix{Tuple{Interval{Float64}, Interval{Float64}}}:\n",
       " ([1.0, 2.0]_com, [1.0, 4.0]_com)    (∅_trv, [4.0, 8.0]_com)\n",
       " ([9.0, 10.0]_com, [7.0, 12.0]_com)  ([13.0, 14.0]_com, [10.0, 16.0]_com)"
      ]
     },
     "metadata": {},
     "output_type": "display_data"
    }
   ],
   "source": [
    "getTwofoldIntervalData(db, \"two_fold_interval\", id)"
   ]
  },
  {
   "cell_type": "code",
   "execution_count": 7,
   "metadata": {},
   "outputs": [],
   "source": [
    "SQLite.close(db)"
   ]
  },
  {
   "cell_type": "code",
   "execution_count": 8,
   "metadata": {},
   "outputs": [],
   "source": []
  }
 ],
 "metadata": {
  "kernelspec": {
   "display_name": "Julia 1.9.3",
   "language": "julia",
   "name": "julia-1.9"
  },
  "language_info": {
   "file_extension": ".jl",
   "mimetype": "application/julia",
   "name": "julia",
   "version": "1.9.3"
  }
 },
 "nbformat": 4,
 "nbformat_minor": 2
}
