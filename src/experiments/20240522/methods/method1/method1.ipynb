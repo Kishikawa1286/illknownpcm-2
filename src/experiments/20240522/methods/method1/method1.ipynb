{
 "cells": [
  {
   "cell_type": "code",
   "execution_count": 1,
   "metadata": {},
   "outputs": [],
   "source": [
    "include(\"../../ad_hoc/sample.jl\")\n",
    "using .SampleTable\n",
    "\n",
    "include(\"../../../../utils/sqlite/v1/interval.jl\")\n",
    "using .IntervalTable\n",
    "\n",
    "include(\"../../../../utils/sqlite/v1/twofold_interval.jl\")\n",
    "using .TwofoldIntervalTable\n",
    "\n",
    "include(\"../../../../utils/sqlite/v1/sqlite.jl\")\n",
    "using .SQLiteHelper\n",
    "\n",
    "include(\"./method1.jl\")\n",
    "using .Method1"
   ]
  },
  {
   "cell_type": "code",
   "execution_count": 2,
   "metadata": {},
   "outputs": [
    {
     "data": {
      "text/plain": [
       "\"method1_results\""
      ]
     },
     "metadata": {},
     "output_type": "display_data"
    }
   ],
   "source": [
    "M = 2\n",
    "methodNum = 1\n",
    "matrixTableName = \"sample_interval_pcms\"\n",
    "sampleTableName = \"samples\"\n",
    "resultTableName = \"method$(methodNum)_results\""
   ]
  },
  {
   "cell_type": "code",
   "execution_count": 3,
   "metadata": {},
   "outputs": [],
   "source": [
    "for n = 5:5\n",
    "    db = database(\"../../experiment_20240522_n$(n)_M$(M).sqlite\")\n",
    "    # dropTable(db, resultTableName)\n",
    "    createMatrixTable(db, resultTableName)\n",
    "end"
   ]
  },
  {
   "cell_type": "code",
   "execution_count": 4,
   "metadata": {},
   "outputs": [
    {
     "data": {
      "text/plain": [
       "loadSamples (generic function with 1 method)"
      ]
     },
     "metadata": {},
     "output_type": "display_data"
    }
   ],
   "source": [
    "function loadSamples(n::Int)\n",
    "    db = database(\"../../experiment_20240522_n$(n)_M$(M).sqlite\")\n",
    "    df = parseAndReturnAllMatrixData(db, sampleTableName, matrixTableName)\n",
    "end"
   ]
  },
  {
   "cell_type": "code",
   "execution_count": 5,
   "metadata": {},
   "outputs": [
    {
     "data": {
      "text/plain": [
       "processSamples (generic function with 1 method)"
      ]
     },
     "metadata": {},
     "output_type": "display_data"
    }
   ],
   "source": [
    "@inline function processSamples(sampleData, n::Int)\n",
    "    db = database(\"../../experiment_20240522_n$(n)_M$(M).sqlite\")\n",
    "    Threads.@threads for sample in sampleData\n",
    "        sampleId = sample.sample_id\n",
    "        matrices = sample.matrices\n",
    "        try\n",
    "            if length(matrices) >= 2\n",
    "                A₁ = matrices[1].data\n",
    "                A₂ = matrices[2].data\n",
    "                𝒜 = method1(A₁, A₂)\n",
    "                insertTwofoldIntervalData(db, resultTableName, sampleId, 𝒜)\n",
    "            else\n",
    "                display(\"Not enough matrices for sample $sampleId\")\n",
    "            end\n",
    "        catch e\n",
    "            display(\"Error occurred in sample $sampleId\")\n",
    "            display(e)\n",
    "        end\n",
    "    end\n",
    "end"
   ]
  },
  {
   "cell_type": "code",
   "execution_count": 6,
   "metadata": {},
   "outputs": [
    {
     "data": {
      "text/plain": [
       "\"Error occurred in sample 840eb68e-5e2d-4496-9466-c6467a9e347e\""
      ]
     },
     "metadata": {},
     "output_type": "display_data"
    },
    {
     "data": {
      "text/plain": [
       "ErrorException(\"Failed to consistentize a twofold interval PCM.\")"
      ]
     },
     "metadata": {},
     "output_type": "display_data"
    },
    {
     "data": {
      "text/plain": [
       "\"Error occurred in sample 09787bcd-5c22-465b-ae3e-b7d45b51d4b1\""
      ]
     },
     "metadata": {},
     "output_type": "display_data"
    },
    {
     "data": {
      "text/plain": [
       "ErrorException(\"Failed to consistentize a twofold interval PCM.\")"
      ]
     },
     "metadata": {},
     "output_type": "display_data"
    }
   ],
   "source": [
    "for n = 5:5\n",
    "    sampleData = loadSamples(n)\n",
    "    processSamples(sampleData, n)\n",
    "end"
   ]
  },
  {
   "cell_type": "code",
   "execution_count": 7,
   "metadata": {},
   "outputs": [],
   "source": []
  }
 ],
 "metadata": {
  "kernelspec": {
   "display_name": "Julia 1.9.3",
   "language": "julia",
   "name": "julia-1.9"
  },
  "language_info": {
   "file_extension": ".jl",
   "mimetype": "application/julia",
   "name": "julia",
   "version": "1.9.3"
  }
 },
 "nbformat": 4,
 "nbformat_minor": 2
}
