{
 "cells": [
  {
   "cell_type": "code",
   "execution_count": 1,
   "metadata": {},
   "outputs": [],
   "source": [
    "using UUIDs\n",
    "using SQLite\n",
    "using Tables\n",
    "using JSON3\n",
    "\n",
    "include(\"./generate_pcms.jl\")\n",
    "using .PCMsGenerator\n",
    "\n",
    "include(\"./sample.jl\")\n",
    "using .SampleTable\n",
    "\n",
    "include(\"../../../utils/sqlite/v1/interval.jl\")\n",
    "using .IntervalTable\n",
    "\n",
    "include(\"../../../utils/sqlite/v1/sqlite.jl\")\n",
    "using .SQLiteHelper"
   ]
  },
  {
   "cell_type": "code",
   "execution_count": 2,
   "metadata": {},
   "outputs": [
    {
     "data": {
      "text/plain": [
       "3"
      ]
     },
     "metadata": {},
     "output_type": "display_data"
    }
   ],
   "source": [
    "M = 2\n",
    "sample_size = 0"
   ]
  },
  {
   "cell_type": "code",
   "execution_count": 3,
   "metadata": {},
   "outputs": [
    {
     "name": "stdout",
     "output_type": "stream",
     "text": [
      "[\"b7755322-efd8-47de-bd24-257346e5cd59\",\"fa3998e6-19db-4ba9-9cc7-e61cf03df06e\"]\n",
      "[\"082092de-c2a0-43c8-84dd-f57a9bada4a5\",\"b6873f33-f591-4a17-8b02-5fb85ff415bd\"]\n",
      "[\"712cef38-29cc-4e91-80eb-f9c8d3463df3\",\"03e1667c-454c-43b1-8451-00f54837a377\"]\n"
     ]
    }
   ],
   "source": [
    "for n = 4:7\n",
    "    db = database(\"../experiment_20240522_n$(n)_M$(M).sqlite\")\n",
    "\n",
    "    matrixTableName = \"sample_interval_pcms\"\n",
    "    sampleTableName = \"samples\"\n",
    "\n",
    "    function insertIntervalPCMs(pcms, i)\n",
    "        caseId = string(uuid4())\n",
    "        matrixIds = [string(uuid4()) for _ in pcms]\n",
    "        insertSample(db, sampleTableName, caseId, matrixIds)\n",
    "        for (pcm, matrixId) in zip(pcms, matrixIds)\n",
    "            insertIntervalData(db, matrixTableName, matrixId, pcm)\n",
    "        end\n",
    "    end\n",
    "\n",
    "    createMatrixTable(db, matrixTableName)\n",
    "    createSamplesTable(db, sampleTableName)\n",
    "    generateIntervalPCMSet(;\n",
    "        n = n,\n",
    "        M = M,\n",
    "        sample_size = sample_size,\n",
    "        callback = insertIntervalPCMs\n",
    "    )\n",
    "end"
   ]
  },
  {
   "cell_type": "code",
   "execution_count": 4,
   "metadata": {},
   "outputs": [],
   "source": []
  }
 ],
 "metadata": {
  "kernelspec": {
   "display_name": "Julia 1.9.3",
   "language": "julia",
   "name": "julia-1.9"
  },
  "language_info": {
   "file_extension": ".jl",
   "mimetype": "application/julia",
   "name": "julia",
   "version": "1.9.3"
  }
 },
 "nbformat": 4,
 "nbformat_minor": 2
}
