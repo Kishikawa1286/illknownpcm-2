{
 "cells": [
  {
   "cell_type": "code",
   "execution_count": 1,
   "metadata": {},
   "outputs": [],
   "source": [
    "using SQLite"
   ]
  },
  {
   "cell_type": "code",
   "execution_count": 2,
   "metadata": {},
   "outputs": [],
   "source": [
    "include(\"generate.jl\")\n",
    "include(\"../../../utils/sqlite/v1/sqlite.jl\")\n",
    "using .SQLiteHelper\n",
    "include(\"../../../utils/sqlite/v1/interval.jl\")\n",
    "using .IntervalTable\n",
    "include(\"../../../utils/sqlite/v1/twofold_interval.jl\")\n",
    "using .TwofoldIntervalTable"
   ]
  },
  {
   "cell_type": "code",
   "execution_count": 3,
   "metadata": {},
   "outputs": [
    {
     "data": {
      "text/plain": [
       "0.8047189562170501"
      ]
     },
     "metadata": {},
     "output_type": "display_data"
    }
   ],
   "source": [
    "crispPCMCount = 1000\n",
    "intervalPCMCountPerCrispPCM = 10\n",
    "S = 9.0\n",
    "randomizeWidth = log(5) / 2"
   ]
  },
  {
   "cell_type": "code",
   "execution_count": 4,
   "metadata": {},
   "outputs": [
    {
     "data": {
      "text/plain": [
       "generate_database (generic function with 1 method)"
      ]
     },
     "metadata": {},
     "output_type": "display_data"
    }
   ],
   "source": [
    "function generate_database(n::Integer)\n",
    "    db_path = \"data_$(n).sqlite\"\n",
    "    if isfile(db_path)\n",
    "        println(\"Database $(db_path) already exists. Aborting.\")\n",
    "        return\n",
    "    end\n",
    "\n",
    "    db = SQLite.DB(db_path)\n",
    "\n",
    "    createMatrixTable(db, \"A1\")\n",
    "    createMatrixTable(db, \"A2\")\n",
    "    createMatrixTable(db, \"𝓐\")\n",
    "    createIDTable(db, \"ID\")\n",
    "\n",
    "    cases = generateSimulationCases(n, crispPCMCount, intervalPCMCountPerCrispPCM, S, randomizeWidth)\n",
    "    for case in cases\n",
    "        insertIntervalData(db, \"A1\", case.id, case.A₁)\n",
    "        insertIntervalData(db, \"A2\", case.id, case.A₂)\n",
    "        insertTwofoldIntervalData(db, \"𝓐\", case.id, case.𝓐)\n",
    "        insertID(db, \"ID\", case.id)\n",
    "    end\n",
    "\n",
    "    SQLite.close(db)\n",
    "end"
   ]
  },
  {
   "cell_type": "code",
   "execution_count": 5,
   "metadata": {},
   "outputs": [
    {
     "data": {
      "text/plain": [
       "generate_databases (generic function with 1 method)"
      ]
     },
     "metadata": {},
     "output_type": "display_data"
    }
   ],
   "source": [
    "function generate_databases()\n",
    "    Threads.@threads for n = 4:7\n",
    "        generate_database(n)\n",
    "    end\n",
    "end"
   ]
  },
  {
   "cell_type": "code",
   "execution_count": 6,
   "metadata": {},
   "outputs": [],
   "source": [
    "generate_databases()"
   ]
  },
  {
   "cell_type": "code",
   "execution_count": 7,
   "metadata": {},
   "outputs": [],
   "source": []
  }
 ],
 "metadata": {
  "kernelspec": {
   "display_name": "Julia 1.11.2",
   "language": "julia",
   "name": "julia-1.11"
  },
  "language_info": {
   "file_extension": ".jl",
   "mimetype": "application/julia",
   "name": "julia",
   "version": "1.11.2"
  }
 },
 "nbformat": 4,
 "nbformat_minor": 2
}
