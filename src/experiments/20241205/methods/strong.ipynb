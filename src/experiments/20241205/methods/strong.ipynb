{
 "cells": [
  {
   "cell_type": "code",
   "execution_count": 1,
   "metadata": {},
   "outputs": [
    {
     "data": {
      "text/plain": [
       "TFIWs_strong (generic function with 1 method)"
      ]
     },
     "metadata": {},
     "output_type": "display_data"
    }
   ],
   "source": [
    "include(\"./strong.jl\")"
   ]
  },
  {
   "cell_type": "code",
   "execution_count": 2,
   "metadata": {},
   "outputs": [
    {
     "data": {
      "text/plain": [
       "4×4 Matrix{Interval{Float64}}:\n",
       " [1.0, 1.0]_com             …  [3.0, 5.0]_com       [5.0, 7.0]_com\n",
       " [0.333333, 1.0]_com           [1.0, 4.0]_com       [1.0, 5.0]_com\n",
       " [0.1999999, 0.333334]_com     [1.0, 1.0]_com       [1.0, 3.0]_com\n",
       " [0.142857, 0.200001]_com      [0.333333, 1.0]_com  [1.0, 1.0]_com"
      ]
     },
     "metadata": {},
     "output_type": "display_data"
    }
   ],
   "source": [
    "A = [\n",
    "    1..1 1..3 3..5 5..7\n",
    "    (1/3)..1 1..1 1..4 1..5\n",
    "    (1/5)..(1/3) (1/4)..1 1..1 1..3\n",
    "    (1/7)..(1/5) (1/5)..1 (1/3)..1 1..1\n",
    "]"
   ]
  },
  {
   "cell_type": "code",
   "execution_count": 3,
   "metadata": {},
   "outputs": [
    {
     "data": {
      "text/plain": [
       "(wᴸ⁺ = [0.0, 0.0, 0.0, 0.0], wᴸ⁻ = [NaN, 0.0, 0.0, 0.0], wᵁ⁻ = [0.0, 0.0, 0.0, 0.0], wᵁ⁺ = [0.0, 0.0, 0.0, 0.0], optimalValue = NaN)"
      ]
     },
     "metadata": {},
     "output_type": "display_data"
    }
   ],
   "source": [
    "TFIWs_strong(A)"
   ]
  },
  {
   "cell_type": "code",
   "execution_count": 4,
   "metadata": {},
   "outputs": [
    {
     "data": {
      "text/plain": [
       "3×3 Matrix{Interval{Float64}}:\n",
       " [1.0, 1.0]_com   [0.5, 2.0]_com  [0.25, 4.0]_com\n",
       " [0.5, 2.0]_com   [1.0, 1.0]_com  [0.5, 2.0]_com\n",
       " [0.25, 4.0]_com  [0.5, 2.0]_com  [1.0, 1.0]_com"
      ]
     },
     "metadata": {},
     "output_type": "display_data"
    }
   ],
   "source": [
    "B = [\n",
    "    1..1 (1/2)..2 (1/4)..4\n",
    "    (1/2)..2 1..1 (1/2)..2\n",
    "    (1/4)..4 (1/2)..2 1..1\n",
    "]"
   ]
  },
  {
   "cell_type": "code",
   "execution_count": 5,
   "metadata": {},
   "outputs": [
    {
     "data": {
      "text/plain": [
       "(wᴸ⁺ = [0.14285714285714285, 0.2857142857142857, 0.14285714285714285], wᴸ⁻ = [0.14285714285714285, 0.2857142857142857, 0.14285714285714285], wᵁ⁻ = [0.5714285714285714, 0.2857142857142857, 0.5714285714285714], wᵁ⁺ = [0.5714285714285714, 0.2857142857142857, 0.5714285714285714], optimalValue = 0.0)"
      ]
     },
     "metadata": {},
     "output_type": "display_data"
    }
   ],
   "source": [
    "TFIWs_strong(B)"
   ]
  },
  {
   "cell_type": "code",
   "execution_count": 6,
   "metadata": {},
   "outputs": [],
   "source": []
  }
 ],
 "metadata": {
  "kernelspec": {
   "display_name": "Julia 1.11.2",
   "language": "julia",
   "name": "julia-1.11"
  },
  "language_info": {
   "file_extension": ".jl",
   "mimetype": "application/julia",
   "name": "julia",
   "version": "1.11.2"
  }
 },
 "nbformat": 4,
 "nbformat_minor": 2
}
