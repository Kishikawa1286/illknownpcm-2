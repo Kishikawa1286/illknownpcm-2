{
 "cells": [
  {
   "cell_type": "code",
   "execution_count": 1,
   "metadata": {},
   "outputs": [
    {
     "data": {
      "text/plain": [
       "TFIWs_either (generic function with 1 method)"
      ]
     },
     "metadata": {},
     "output_type": "display_data"
    }
   ],
   "source": [
    "include(\"./either.jl\")"
   ]
  },
  {
   "cell_type": "code",
   "execution_count": 2,
   "metadata": {},
   "outputs": [
    {
     "data": {
      "text/plain": [
       "4×4 Matrix{Interval{Float64}}:\n",
       " [1.0, 1.0]_com             …  [3.0, 5.0]_com       [5.0, 7.0]_com\n",
       " [0.333333, 1.0]_com           [1.0, 4.0]_com       [1.0, 5.0]_com\n",
       " [0.1999999, 0.333334]_com     [1.0, 1.0]_com       [1.0, 3.0]_com\n",
       " [0.142857, 0.200001]_com      [0.333333, 1.0]_com  [1.0, 1.0]_com"
      ]
     },
     "metadata": {},
     "output_type": "display_data"
    }
   ],
   "source": [
    "A = [\n",
    "    1..1 1..3 3..5 5..7\n",
    "    (1/3)..1 1..1 1..4 1..5\n",
    "    (1/5)..(1/3) (1/4)..1 1..1 1..3\n",
    "    (1/7)..(1/5) (1/5)..1 (1/3)..1 1..1\n",
    "]"
   ]
  },
  {
   "cell_type": "code",
   "execution_count": 3,
   "metadata": {},
   "outputs": [
    {
     "ename": "MathOptInterface.ResultIndexBoundsError{MathOptInterface.VariablePrimal}",
     "evalue": "Result index of attribute MathOptInterface.VariablePrimal(1) out of bounds. There are currently 0 solution(s) in the model.",
     "output_type": "error",
     "traceback": [
      "Result index of attribute MathOptInterface.VariablePrimal(1) out of bounds. There are currently 0 solution(s) in the model.\n",
      "\n",
      "Stacktrace:\n",
      "  [1] check_result_index_bounds\n",
      "    @ /opt/julia/packages/MathOptInterface/gLl4d/src/attributes.jl:207 [inlined]\n",
      "  [2] get\n",
      "    @ /opt/julia/packages/HiGHS/y7dA4/src/MOI_wrapper.jl:2127 [inlined]\n",
      "  [3] get(b::MathOptInterface.Bridges.LazyBridgeOptimizer{HiGHS.Optimizer}, attr::MathOptInterface.VariablePrimal, index::MathOptInterface.VariableIndex)\n",
      "    @ MathOptInterface.Bridges /opt/julia/packages/MathOptInterface/gLl4d/src/Bridges/bridge_optimizer.jl:1252\n",
      "  [4] get(model::MathOptInterface.Utilities.CachingOptimizer{MathOptInterface.Bridges.LazyBridgeOptimizer{HiGHS.Optimizer}, MathOptInterface.Utilities.UniversalFallback{MathOptInterface.Utilities.Model{Float64}}}, attr::MathOptInterface.VariablePrimal, index::MathOptInterface.VariableIndex)\n",
      "    @ MathOptInterface.Utilities /opt/julia/packages/MathOptInterface/gLl4d/src/Utilities/cachingoptimizer.jl:937\n",
      "  [5] _moi_get_result(::MathOptInterface.Utilities.CachingOptimizer{MathOptInterface.Bridges.LazyBridgeOptimizer{HiGHS.Optimizer}, MathOptInterface.Utilities.UniversalFallback{MathOptInterface.Utilities.Model{Float64}}}, ::MathOptInterface.VariablePrimal, ::Vararg{Any})\n",
      "    @ JuMP /opt/julia/packages/JuMP/i68GU/src/optimizer_interface.jl:1053\n",
      "  [6] get(model::Model, attr::MathOptInterface.VariablePrimal, v::VariableRef)\n",
      "    @ JuMP /opt/julia/packages/JuMP/i68GU/src/optimizer_interface.jl:1093\n",
      "  [7] value(v::VariableRef; result::Int64)\n",
      "    @ JuMP /opt/julia/packages/JuMP/i68GU/src/variables.jl:1904\n",
      "  [8] value\n",
      "    @ /opt/julia/packages/JuMP/i68GU/src/variables.jl:1903 [inlined]\n",
      "  [9] _broadcast_getindex_evalf\n",
      "    @ ./broadcast.jl:683 [inlined]\n",
      " [10] _broadcast_getindex\n",
      "    @ ./broadcast.jl:656 [inlined]\n",
      " [11] getindex\n",
      "    @ ./broadcast.jl:610 [inlined]\n",
      " [12] macro expansion\n",
      "    @ ./broadcast.jl:974 [inlined]\n",
      " [13] macro expansion\n",
      "    @ ./simdloop.jl:77 [inlined]\n",
      " [14] copyto!\n",
      "    @ ./broadcast.jl:973 [inlined]\n",
      " [15] copyto!\n",
      "    @ ./broadcast.jl:926 [inlined]\n",
      " [16] copy\n",
      "    @ ./broadcast.jl:898 [inlined]\n",
      " [17] materialize\n",
      "    @ ./broadcast.jl:873 [inlined]\n",
      " [18] TFIWs_either(A::Matrix{Interval{Float64}})\n",
      "    @ Main /workspaces/illknownpcm-2/src/experiments/20241205/methods/either.jl:126\n",
      " [19] top-level scope\n",
      "    @ /workspaces/illknownpcm-2/src/experiments/20241205/methods/jl_notebook_cell_df34fa98e69747e1a8f8a730347b8e2f_W5sdnNjb2RlLXJlbW90ZQ==.jl:1"
     ]
    }
   ],
   "source": [
    "TFIWs_either(A)"
   ]
  },
  {
   "cell_type": "code",
   "execution_count": 4,
   "metadata": {},
   "outputs": [
    {
     "data": {
      "text/plain": [
       "3×3 Matrix{Interval{Float64}}:\n",
       " [1.0, 1.0]_com   [0.5, 2.0]_com  [0.25, 4.0]_com\n",
       " [0.5, 2.0]_com   [1.0, 1.0]_com  [0.5, 2.0]_com\n",
       " [0.25, 4.0]_com  [0.5, 2.0]_com  [1.0, 1.0]_com"
      ]
     },
     "metadata": {},
     "output_type": "display_data"
    }
   ],
   "source": [
    "B = [\n",
    "    1..1 (1/2)..2 (1/4)..4\n",
    "    (1/2)..2 1..1 (1/2)..2\n",
    "    (1/4)..4 (1/2)..2 1..1\n",
    "]"
   ]
  },
  {
   "cell_type": "code",
   "execution_count": 5,
   "metadata": {},
   "outputs": [
    {
     "data": {
      "text/plain": [
       "(wᴸ⁺ = [0.14285714285714285, 0.2857142857142857, 0.14285714285714285], wᴸ⁻ = [0.14285714285714285, 0.2857142857142857, 0.14285714285714285], wᵁ⁻ = [0.5714285714285714, 0.2857142857142857, 0.5714285714285714], wᵁ⁺ = [0.5714285714285714, 0.2857142857142857, 0.5714285714285714], optimalValue = 0.0)"
      ]
     },
     "metadata": {},
     "output_type": "display_data"
    }
   ],
   "source": [
    "TFIWs_either(B)"
   ]
  },
  {
   "cell_type": "code",
   "execution_count": 6,
   "metadata": {},
   "outputs": [],
   "source": []
  }
 ],
 "metadata": {
  "kernelspec": {
   "display_name": "Julia 1.9.3",
   "language": "julia",
   "name": "julia-1.9"
  },
  "language_info": {
   "file_extension": ".jl",
   "mimetype": "application/julia",
   "name": "julia",
   "version": "1.9.3"
  }
 },
 "nbformat": 4,
 "nbformat_minor": 2
}
