{
 "cells": [
  {
   "cell_type": "code",
   "execution_count": 1,
   "metadata": {},
   "outputs": [],
   "source": [
    "using IntervalArithmetic\n",
    "using IntervalArithmetic.Symbols\n",
    "\n",
    "include(\"../../utils/ahp/nearly_equal/v1/nearly_equal.jl\")\n",
    "using .NearlyEqual\n",
    "\n",
    "include(\"../../utils/ahp/interval_weight_vector/v1/interval_weight_vector.jl\")\n",
    "using .IntervalWeightVector\n",
    "\n",
    "include(\"../../utils/ahp/twofold_interval/v1/twofold_interval.jl\")\n",
    "using .TwofoldIntervalArithmetic\n",
    "\n",
    "include(\"../../utils/ahp/twofold_interval_weight_vector/v1/twofold_interval_weight_vector.jl\")\n",
    "using .TwofoldIntervalWeightVector"
   ]
  },
  {
   "cell_type": "code",
   "execution_count": 2,
   "metadata": {},
   "outputs": [
    {
     "data": {
      "text/plain": [
       "isNormalizedTwofoldIntervalWeightVector (generic function with 1 method)"
      ]
     },
     "metadata": {},
     "output_type": "display_data"
    }
   ],
   "source": [
    "function isNormalizedTwofoldIntervalWeightVector(𝒲::Vector{TwofoldInterval{T}})::Bool where {T <: Real}\n",
    "    if !isTwofoldIntervalWeightVector(𝒲)\n",
    "        return false\n",
    "    end\n",
    "\n",
    "    n = length(𝒲)\n",
    "\n",
    "    for i in 1:n\n",
    "        𝒲ᵢ = 𝒲[i]\n",
    "        𝒲ᵢ⁺ = outer(𝒲ᵢ)\n",
    "        wᵢᴸ⁺ = inf(𝒲ᵢ⁺); wᵢᵁ⁺ = sup(𝒲ᵢ⁺)\n",
    "\n",
    "        Σⱼwⱼᴸ⁻ = 0; Σⱼwⱼᵁ⁻ = 0\n",
    "        for j in 1:n\n",
    "            if i == j continue end\n",
    "\n",
    "            𝒲ⱼ = 𝒲[j]\n",
    "            𝒲ⱼ⁻ = inner(𝒲ⱼ)\n",
    "            wⱼᴸ⁻ = inf(𝒲ⱼ⁻); wⱼᵁ⁻ = sup(𝒲ⱼ⁻)\n",
    "            Σⱼwⱼᴸ⁻ += wⱼᴸ⁻; Σⱼwⱼᵁ⁻ += wⱼᵁ⁻\n",
    "        end\n",
    "\n",
    "\n",
    "        if Σⱼwⱼᴸ⁻ + wᵢᵁ⁺ > 1 && !isNearlyEqual(Σⱼwⱼᴸ⁻ + wᵢᵁ⁺, 1.0)\n",
    "            return false\n",
    "        end\n",
    "        if Σⱼwⱼᵁ⁻ + wᵢᴸ⁺ < 1 && !isNearlyEqual(Σⱼwⱼᵁ⁻ + wᵢᴸ⁺, 1.0)\n",
    "            return false\n",
    "        end\n",
    "    end\n",
    "\n",
    "    return true\n",
    "end"
   ]
  },
  {
   "cell_type": "code",
   "execution_count": 3,
   "metadata": {},
   "outputs": [
    {
     "data": {
      "text/plain": [
       "4-element Vector{Interval{Float64}}:\n",
       " [0.5, 0.502001]_com\n",
       " [0.246999, 0.253001]_com\n",
       " [0.118999, 0.127001]_com\n",
       " [0.122999, 0.126001]_com"
      ]
     },
     "metadata": {},
     "output_type": "display_data"
    }
   ],
   "source": [
    "# Not Normalized\n",
    "𝓥₁ = [\n",
    "    (interval(0.500, 0.502), interval(0.500, 0.502)),\n",
    "    (interval(0.247, 0.253), interval(0.247, 0.253)),\n",
    "    (interval(0.123, 0.126), interval(0.119, 0.127)),\n",
    "    (interval(0.124, 0.125), interval(0.123, 0.126))\n",
    "]\n",
    "𝓥₁⁻ = inner.(𝓥₁); 𝓥₁⁺ = outer.(𝓥₁)"
   ]
  },
  {
   "cell_type": "code",
   "execution_count": 4,
   "metadata": {},
   "outputs": [
    {
     "data": {
      "text/plain": [
       "true"
      ]
     },
     "metadata": {},
     "output_type": "display_data"
    }
   ],
   "source": [
    "isNormalizedIntervalWeightVector(𝓥₁⁻)"
   ]
  },
  {
   "cell_type": "code",
   "execution_count": 5,
   "metadata": {},
   "outputs": [
    {
     "data": {
      "text/plain": [
       "true"
      ]
     },
     "metadata": {},
     "output_type": "display_data"
    }
   ],
   "source": [
    "isNormalizedIntervalWeightVector(𝓥₁⁺)"
   ]
  },
  {
   "cell_type": "code",
   "execution_count": 6,
   "metadata": {},
   "outputs": [
    {
     "data": {
      "text/plain": [
       "true"
      ]
     },
     "metadata": {},
     "output_type": "display_data"
    }
   ],
   "source": [
    "isTwofoldIntervalWeightVector(𝓥₁)"
   ]
  },
  {
   "cell_type": "code",
   "execution_count": 7,
   "metadata": {},
   "outputs": [
    {
     "data": {
      "text/plain": [
       "false"
      ]
     },
     "metadata": {},
     "output_type": "display_data"
    }
   ],
   "source": [
    "isNormalizedTwofoldIntervalWeightVector(𝓥₁)"
   ]
  },
  {
   "cell_type": "code",
   "execution_count": 8,
   "metadata": {},
   "outputs": [
    {
     "data": {
      "text/plain": [
       "4-element Vector{Interval{Float64}}:\n",
       " [0.5, 0.502001]_com\n",
       " [0.246999, 0.253001]_com\n",
       " [0.118999, 0.126001]_com\n",
       " [0.123999, 0.125]_com"
      ]
     },
     "metadata": {},
     "output_type": "display_data"
    }
   ],
   "source": [
    "V₁ = [\n",
    "    interval(0.500, 0.502),\n",
    "    interval(0.247, 0.253),\n",
    "    interval(0.119, 0.126),\n",
    "    interval(0.124, 0.125)\n",
    "]"
   ]
  },
  {
   "cell_type": "code",
   "execution_count": 9,
   "metadata": {},
   "outputs": [
    {
     "data": {
      "text/plain": [
       "true"
      ]
     },
     "metadata": {},
     "output_type": "display_data"
    }
   ],
   "source": [
    "isIntervalWeightVector(V₁)"
   ]
  },
  {
   "cell_type": "code",
   "execution_count": 10,
   "metadata": {},
   "outputs": [
    {
     "data": {
      "text/plain": [
       "true"
      ]
     },
     "metadata": {},
     "output_type": "display_data"
    }
   ],
   "source": [
    "TwofoldIntervalWeightVector.isincluded(V₁, 𝓥₁)"
   ]
  },
  {
   "cell_type": "code",
   "execution_count": 11,
   "metadata": {},
   "outputs": [
    {
     "data": {
      "text/plain": [
       "false"
      ]
     },
     "metadata": {},
     "output_type": "display_data"
    }
   ],
   "source": [
    "isNormalizedIntervalWeightVector(V₁)"
   ]
  },
  {
   "cell_type": "code",
   "execution_count": 43,
   "metadata": {},
   "outputs": [
    {
     "data": {
      "text/plain": [
       "4-element Vector{Interval{Float64}}:\n",
       " [0.5, 0.502001]_com\n",
       " [0.246999, 0.253001]_com\n",
       " [0.122999, 0.127001]_com\n",
       " [0.122999, 0.126001]_com"
      ]
     },
     "metadata": {},
     "output_type": "display_data"
    }
   ],
   "source": [
    "# Normalized\n",
    "𝓥₂ = [\n",
    "    (interval(0.500, 0.502), interval(0.500, 0.502)),\n",
    "    (interval(0.247, 0.253), interval(0.247, 0.253)),\n",
    "    (interval(0.123, 0.126), interval(0.123, 0.127)), # w_3^L+ is modified\n",
    "    (interval(0.124, 0.125), interval(0.123, 0.126))\n",
    "]\n",
    "𝓥₂⁻ = inner.(𝓥₂); 𝓥₂⁺ = outer.(𝓥₂)"
   ]
  },
  {
   "cell_type": "code",
   "execution_count": 44,
   "metadata": {},
   "outputs": [
    {
     "data": {
      "text/plain": [
       "true"
      ]
     },
     "metadata": {},
     "output_type": "display_data"
    }
   ],
   "source": [
    "isNormalizedIntervalWeightVector(𝓥₂⁻)"
   ]
  },
  {
   "cell_type": "code",
   "execution_count": 45,
   "metadata": {},
   "outputs": [
    {
     "data": {
      "text/plain": [
       "true"
      ]
     },
     "metadata": {},
     "output_type": "display_data"
    }
   ],
   "source": [
    "isNormalizedIntervalWeightVector(𝓥₂⁺)"
   ]
  },
  {
   "cell_type": "code",
   "execution_count": 46,
   "metadata": {},
   "outputs": [
    {
     "data": {
      "text/plain": [
       "true"
      ]
     },
     "metadata": {},
     "output_type": "display_data"
    }
   ],
   "source": [
    "isTwofoldIntervalWeightVector(𝓥₂)"
   ]
  },
  {
   "cell_type": "code",
   "execution_count": 47,
   "metadata": {},
   "outputs": [
    {
     "data": {
      "text/plain": [
       "true"
      ]
     },
     "metadata": {},
     "output_type": "display_data"
    }
   ],
   "source": [
    "isNormalizedTwofoldIntervalWeightVector(𝓥₂)"
   ]
  },
  {
   "cell_type": "code",
   "execution_count": 17,
   "metadata": {},
   "outputs": [],
   "source": []
  }
 ],
 "metadata": {
  "kernelspec": {
   "display_name": "Julia 1.9.3",
   "language": "julia",
   "name": "julia-1.9"
  },
  "language_info": {
   "file_extension": ".jl",
   "mimetype": "application/julia",
   "name": "julia",
   "version": "1.9.3"
  }
 },
 "nbformat": 4,
 "nbformat_minor": 2
}
